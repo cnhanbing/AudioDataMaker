{
 "cells": [
  {
   "cell_type": "code",
   "execution_count": 6,
   "metadata": {},
   "outputs": [],
   "source": [
    "import os\n",
    "import uuid\n",
    "from argparse import ArgumentParser\n",
    "from pathlib import Path\n",
    "import shutil\n",
    "import hydra\n",
    "from omegaconf import DictConfig\n",
    "\n",
    "import torchaudio\n",
    "\n",
    "from utils import VideoIDExtractor, Down_Audio, AudioSeparator, Speaker_verification, convert_audio\n",
    "from scripts.Audio_Slicer import Slicer\n",
    "from scripts.whisper import Whisper_ASR\n",
    "from scripts.Single_speaker_detection import is_single_speaker"
   ]
  },
  {
   "cell_type": "code",
   "execution_count": 7,
   "metadata": {},
   "outputs": [],
   "source": [
    "@hydra.main(version_base=None, config_path=\"conf\", config_name=\"config.yaml\")\n",
    "def main(args: DictConfig):\n",
    "    download_dir='temp/youtube'\n",
    "    os.makedirs(download_dir, exist_ok=True)\n",
    "    out='temp/seg_audio1'\n",
    "    os.makedirs(out, exist_ok=True)\n",
    "    single_speaker_dir='temp/single_speaker'\n",
    "    Speaker_verification_dir='temp/Speaker_verificationr'\n",
    "    os.makedirs(single_speaker_dir, exist_ok=True)\n",
    "    os.makedirs(Speaker_verification_dir, exist_ok=True)\n",
    "    sr16K_dir='temp/16K_dir'\n",
    "    os.makedirs(sr16K_dir, exist_ok=True)\n",
    "    sr22K_dir='result'\n",
    "    os.makedirs(sr22K_dir, exist_ok=True)\n",
    "\n",
    "    ASR_file=Path(sr22K_dir)/'dataset.txt'\n",
    "    error_log_file=Path(sr22K_dir)/'error_log.txt'\n"
   ]
  },
  {
   "cell_type": "markdown",
   "metadata": {},
   "source": [
    "解析视频ID"
   ]
  },
  {
   "cell_type": "code",
   "execution_count": 8,
   "metadata": {},
   "outputs": [
    {
     "ename": "NameError",
     "evalue": "name 'args' is not defined",
     "output_type": "error",
     "traceback": [
      "\u001b[0;31m---------------------------------------------------------------------------\u001b[0m",
      "\u001b[0;31mNameError\u001b[0m                                 Traceback (most recent call last)",
      "Cell \u001b[0;32mIn[8], line 2\u001b[0m\n\u001b[1;32m      1\u001b[0m Pick_id\u001b[38;5;241m=\u001b[39mVideoIDExtractor()\n\u001b[0;32m----> 2\u001b[0m video_ids\u001b[38;5;241m=\u001b[39mPick_id\u001b[38;5;241m.\u001b[39mprocess_file_list(\u001b[43margs\u001b[49m\u001b[38;5;241m.\u001b[39mbase\u001b[38;5;241m.\u001b[39mvideoUrl)\n\u001b[1;32m      3\u001b[0m \u001b[38;5;28mprint\u001b[39m(\u001b[38;5;28mtype\u001b[39m(video_ids))\n\u001b[1;32m      4\u001b[0m \u001b[38;5;28mprint\u001b[39m(video_ids)\n",
      "\u001b[0;31mNameError\u001b[0m: name 'args' is not defined"
     ]
    }
   ],
   "source": [
    "Pick_id=VideoIDExtractor()\n",
    "video_ids=Pick_id.process_file_list(args.base.videoUrl)\n",
    "print(type(video_ids))\n",
    "print(video_ids)"
   ]
  },
  {
   "cell_type": "code",
   "execution_count": null,
   "metadata": {},
   "outputs": [],
   "source": [
    "down_file=[]\n",
    "for video_id in video_ids:\n",
    "    audio_path=Down_Audio(video_id=video_id,output_folder=download_dir)\n",
    "    down_file.append(audio_path)\n",
    "print(down_file)"
   ]
  },
  {
   "cell_type": "code",
   "execution_count": null,
   "metadata": {},
   "outputs": [],
   "source": [
    "vocals=[]\n",
    "a=AudioSeparator()\n",
    "for file in down_file:\n",
    "    vocal,sr=a.separate_audio(file)\n",
    "    vocals.append((vocal,sr))"
   ]
  },
  {
   "cell_type": "code",
   "execution_count": null,
   "metadata": {},
   "outputs": [],
   "source": [
    "for vocal in vocals:\n",
    "    voc,sr=vocal\n",
    "    slicer = Slicer(\n",
    "        sr=sr,\n",
    "        threshold=-30,\n",
    "        min_length=5000,\n",
    "        min_interval=300,\n",
    "        hop_size=20,\n",
    "        max_sil_kept=5000\n",
    "    )\n",
    "    chunks = slicer.slice(voc)\n",
    "    \n",
    "    for i, chunk in enumerate(chunks):\n",
    "        # 构建输出文件路径\n",
    "        output_file = os.path.join(out, f'{uuid.uuid4()}.wav')\n",
    "        # 将静音段保存为 WAV 文件\n",
    "        torchaudio.save(output_file, chunk, sr)"
   ]
  },
  {
   "cell_type": "code",
   "execution_count": null,
   "metadata": {},
   "outputs": [],
   "source": [
    "audio_files=list(Path(out).glob('**/*.wav'))\n",
    "for i,audio_file_path in enumerate(audio_files):\n",
    "    result =is_single_speaker(audio_file_path, model_name, use_auth_token, use_cuda)\n",
    "    if result[0]:\n",
    "        shutil.copy2(audio_file_path, single_speaker_dir)\n",
    "        print(f'已经将{audio_file_path}复制到{single_speaker_dir}')"
   ]
  },
  {
   "cell_type": "code",
   "execution_count": null,
   "metadata": {},
   "outputs": [],
   "source": [
    "audio_files=list(Path(single_speaker_dir).glob('**/*.wav'))\n",
    "for i,audio_file_path in enumerate(audio_files): \n",
    "\n",
    "    convert_audio(input_file=audio_file_path,output_file=single_speaker_dir/audio_file_path.name,target_sr=16000,target_channels=1)"
   ]
  },
  {
   "cell_type": "code",
   "execution_count": null,
   "metadata": {},
   "outputs": [],
   "source": [
    "Speaker_verification(single_speaker_dir,Speaker_verification_dir,'temp/f1a6e541-741d-4b64-af3a-575af5a99305.wav')"
   ]
  },
  {
   "cell_type": "code",
   "execution_count": null,
   "metadata": {},
   "outputs": [],
   "source": [
    "#修改名字\n",
    "files=os.listdir(Speaker_verification_dir)\n",
    "# [os.rename(os.path.join(Speaker_verification_dir, filename), os.path.join(Speaker_verification_dir, f\"p120-{file_counter:04}.wav\")) for file_counter, filename in enumerate(files) if filename.endswith(\".wav\")]\n",
    "[Path(Speaker_verification_dir).joinpath(f\"p125-{file_counter:04}.wav\").rename(Path(Speaker_verification_dir).joinpath(filename)) for file_counter, filename in enumerate(files) if filename.endswith(\".wav\")]\n",
    "\n",
    "\n",
    "#转换采样率，为whisper做准备\n",
    "# audio_files=glob.glob(os.path.join(Speaker_verification_dir,'**/*.wav'), recursive=True)\n",
    "audio_files=list(Path(Speaker_verification_dir).glob('**/*.wav'))\n",
    "for i,audio_file_path in enumerate(audio_files): \n",
    "    convert_audio(input_file=audio_file_path,output_file=sr22K_dir/audio_file_path.name,target_sr=22050,target_channels=1)\n",
    "    convert_audio(input_file=audio_file_path,output_file=sr16K_dir/audio_file_path.name,target_sr=16000,target_channels=1)"
   ]
  }
 ],
 "metadata": {
  "kernelspec": {
   "display_name": "AutoAudioDatasetBuilder",
   "language": "python",
   "name": "python3"
  },
  "language_info": {
   "codemirror_mode": {
    "name": "ipython",
    "version": 3
   },
   "file_extension": ".py",
   "mimetype": "text/x-python",
   "name": "python",
   "nbconvert_exporter": "python",
   "pygments_lexer": "ipython3",
   "version": "3.11.7"
  }
 },
 "nbformat": 4,
 "nbformat_minor": 2
}
